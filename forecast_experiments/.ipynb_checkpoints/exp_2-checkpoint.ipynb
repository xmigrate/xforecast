{
 "cells": [
  {
   "cell_type": "code",
   "execution_count": 132,
   "id": "71d3f268",
   "metadata": {},
   "outputs": [],
   "source": [
    "import requests\n",
    "import json\n",
    "import time\n",
    "import pandas as pd\n",
    "from prophet import Prophet\n",
    "import matplotlib.pyplot as  plt\n",
    "from sklearn import preprocessing\n",
    "import matplotlib.pyplot as plt\n",
    "import numpy as np"
   ]
  },
  {
   "cell_type": "code",
   "execution_count": 133,
   "id": "42e1d2ce",
   "metadata": {},
   "outputs": [],
   "source": [
    "df = pd.read_csv('./sample data/Metrics-2.csv')\n",
    "df = df.set_index('Time')"
   ]
  },
  {
   "cell_type": "code",
   "execution_count": 134,
   "id": "83bb978a",
   "metadata": {},
   "outputs": [
    {
     "name": "stdout",
     "output_type": "stream",
     "text": [
      "                Requests_Sum\n",
      "Time                        \n",
      "03/07/22 22:20           585\n",
      "03/07/22 22:21           706\n",
      "03/07/22 22:22           675\n",
      "03/07/22 22:23           561\n",
      "03/07/22 22:24           735\n"
     ]
    },
    {
     "data": {
      "text/plain": [
       "(10080, 1)"
      ]
     },
     "execution_count": 134,
     "metadata": {},
     "output_type": "execute_result"
    }
   ],
   "source": [
    "print(df.head())\n",
    "df.shape"
   ]
  },
  {
   "cell_type": "code",
   "execution_count": 135,
   "id": "afdedf30",
   "metadata": {},
   "outputs": [
    {
     "data": {
      "text/plain": [
       "(8064, 1)"
      ]
     },
     "execution_count": 135,
     "metadata": {},
     "output_type": "execute_result"
    }
   ],
   "source": [
    "train_split = int(len(df)*0.80)\n",
    "val_split = int(len(df)*0.15) + train_split\n",
    "train_df = df[:train_split]\n",
    "train_df.shape"
   ]
  },
  {
   "cell_type": "code",
   "execution_count": 136,
   "id": "51b4a6c1",
   "metadata": {},
   "outputs": [
    {
     "data": {
      "text/html": [
       "<div>\n",
       "<style scoped>\n",
       "    .dataframe tbody tr th:only-of-type {\n",
       "        vertical-align: middle;\n",
       "    }\n",
       "\n",
       "    .dataframe tbody tr th {\n",
       "        vertical-align: top;\n",
       "    }\n",
       "\n",
       "    .dataframe thead th {\n",
       "        text-align: right;\n",
       "    }\n",
       "</style>\n",
       "<table border=\"1\" class=\"dataframe\">\n",
       "  <thead>\n",
       "    <tr style=\"text-align: right;\">\n",
       "      <th></th>\n",
       "      <th>Requests_Sum</th>\n",
       "    </tr>\n",
       "    <tr>\n",
       "      <th>Time</th>\n",
       "      <th></th>\n",
       "    </tr>\n",
       "  </thead>\n",
       "  <tbody>\n",
       "    <tr>\n",
       "      <th>03/07/22 22:20</th>\n",
       "      <td>585</td>\n",
       "    </tr>\n",
       "    <tr>\n",
       "      <th>03/07/22 22:21</th>\n",
       "      <td>706</td>\n",
       "    </tr>\n",
       "    <tr>\n",
       "      <th>03/07/22 22:22</th>\n",
       "      <td>675</td>\n",
       "    </tr>\n",
       "    <tr>\n",
       "      <th>03/07/22 22:23</th>\n",
       "      <td>561</td>\n",
       "    </tr>\n",
       "    <tr>\n",
       "      <th>03/07/22 22:24</th>\n",
       "      <td>735</td>\n",
       "    </tr>\n",
       "  </tbody>\n",
       "</table>\n",
       "</div>"
      ],
      "text/plain": [
       "                Requests_Sum\n",
       "Time                        \n",
       "03/07/22 22:20           585\n",
       "03/07/22 22:21           706\n",
       "03/07/22 22:22           675\n",
       "03/07/22 22:23           561\n",
       "03/07/22 22:24           735"
      ]
     },
     "execution_count": 136,
     "metadata": {},
     "output_type": "execute_result"
    }
   ],
   "source": [
    "train_df.head()"
   ]
  },
  {
   "cell_type": "code",
   "execution_count": 137,
   "id": "098e31a7",
   "metadata": {},
   "outputs": [
    {
     "data": {
      "text/plain": [
       "((504, 1), (1512, 1))"
      ]
     },
     "execution_count": 137,
     "metadata": {},
     "output_type": "execute_result"
    }
   ],
   "source": [
    "val_df = df[train_split:val_split]\n",
    "test_df = df[val_split:]\n",
    "test_df.shape, val_df.shape"
   ]
  },
  {
   "cell_type": "code",
   "execution_count": 138,
   "id": "c9579b90",
   "metadata": {},
   "outputs": [
    {
     "data": {
      "text/html": [
       "<style>#sk-container-id-4 {color: black;background-color: white;}#sk-container-id-4 pre{padding: 0;}#sk-container-id-4 div.sk-toggleable {background-color: white;}#sk-container-id-4 label.sk-toggleable__label {cursor: pointer;display: block;width: 100%;margin-bottom: 0;padding: 0.3em;box-sizing: border-box;text-align: center;}#sk-container-id-4 label.sk-toggleable__label-arrow:before {content: \"▸\";float: left;margin-right: 0.25em;color: #696969;}#sk-container-id-4 label.sk-toggleable__label-arrow:hover:before {color: black;}#sk-container-id-4 div.sk-estimator:hover label.sk-toggleable__label-arrow:before {color: black;}#sk-container-id-4 div.sk-toggleable__content {max-height: 0;max-width: 0;overflow: hidden;text-align: left;background-color: #f0f8ff;}#sk-container-id-4 div.sk-toggleable__content pre {margin: 0.2em;color: black;border-radius: 0.25em;background-color: #f0f8ff;}#sk-container-id-4 input.sk-toggleable__control:checked~div.sk-toggleable__content {max-height: 200px;max-width: 100%;overflow: auto;}#sk-container-id-4 input.sk-toggleable__control:checked~label.sk-toggleable__label-arrow:before {content: \"▾\";}#sk-container-id-4 div.sk-estimator input.sk-toggleable__control:checked~label.sk-toggleable__label {background-color: #d4ebff;}#sk-container-id-4 div.sk-label input.sk-toggleable__control:checked~label.sk-toggleable__label {background-color: #d4ebff;}#sk-container-id-4 input.sk-hidden--visually {border: 0;clip: rect(1px 1px 1px 1px);clip: rect(1px, 1px, 1px, 1px);height: 1px;margin: -1px;overflow: hidden;padding: 0;position: absolute;width: 1px;}#sk-container-id-4 div.sk-estimator {font-family: monospace;background-color: #f0f8ff;border: 1px dotted black;border-radius: 0.25em;box-sizing: border-box;margin-bottom: 0.5em;}#sk-container-id-4 div.sk-estimator:hover {background-color: #d4ebff;}#sk-container-id-4 div.sk-parallel-item::after {content: \"\";width: 100%;border-bottom: 1px solid gray;flex-grow: 1;}#sk-container-id-4 div.sk-label:hover label.sk-toggleable__label {background-color: #d4ebff;}#sk-container-id-4 div.sk-serial::before {content: \"\";position: absolute;border-left: 1px solid gray;box-sizing: border-box;top: 0;bottom: 0;left: 50%;z-index: 0;}#sk-container-id-4 div.sk-serial {display: flex;flex-direction: column;align-items: center;background-color: white;padding-right: 0.2em;padding-left: 0.2em;position: relative;}#sk-container-id-4 div.sk-item {position: relative;z-index: 1;}#sk-container-id-4 div.sk-parallel {display: flex;align-items: stretch;justify-content: center;background-color: white;position: relative;}#sk-container-id-4 div.sk-item::before, #sk-container-id-4 div.sk-parallel-item::before {content: \"\";position: absolute;border-left: 1px solid gray;box-sizing: border-box;top: 0;bottom: 0;left: 50%;z-index: -1;}#sk-container-id-4 div.sk-parallel-item {display: flex;flex-direction: column;z-index: 1;position: relative;background-color: white;}#sk-container-id-4 div.sk-parallel-item:first-child::after {align-self: flex-end;width: 50%;}#sk-container-id-4 div.sk-parallel-item:last-child::after {align-self: flex-start;width: 50%;}#sk-container-id-4 div.sk-parallel-item:only-child::after {width: 0;}#sk-container-id-4 div.sk-dashed-wrapped {border: 1px dashed gray;margin: 0 0.4em 0.5em 0.4em;box-sizing: border-box;padding-bottom: 0.4em;background-color: white;}#sk-container-id-4 div.sk-label label {font-family: monospace;font-weight: bold;display: inline-block;line-height: 1.2em;}#sk-container-id-4 div.sk-label-container {text-align: center;}#sk-container-id-4 div.sk-container {/* jupyter's `normalize.less` sets `[hidden] { display: none; }` but bootstrap.min.css set `[hidden] { display: none !important; }` so we also need the `!important` here to be able to override the default hidden behavior on the sphinx rendered scikit-learn.org. See: https://github.com/scikit-learn/scikit-learn/issues/21755 */display: inline-block !important;position: relative;}#sk-container-id-4 div.sk-text-repr-fallback {display: none;}</style><div id=\"sk-container-id-4\" class=\"sk-top-container\"><div class=\"sk-text-repr-fallback\"><pre>MinMaxScaler()</pre><b>In a Jupyter environment, please rerun this cell to show the HTML representation or trust the notebook. <br />On GitHub, the HTML representation is unable to render, please try loading this page with nbviewer.org.</b></div><div class=\"sk-container\" hidden><div class=\"sk-item\"><div class=\"sk-estimator sk-toggleable\"><input class=\"sk-toggleable__control sk-hidden--visually\" id=\"sk-estimator-id-4\" type=\"checkbox\" checked><label for=\"sk-estimator-id-4\" class=\"sk-toggleable__label sk-toggleable__label-arrow\">MinMaxScaler</label><div class=\"sk-toggleable__content\"><pre>MinMaxScaler()</pre></div></div></div></div></div>"
      ],
      "text/plain": [
       "MinMaxScaler()"
      ]
     },
     "execution_count": 138,
     "metadata": {},
     "output_type": "execute_result"
    }
   ],
   "source": [
    "minmax = preprocessing.MinMaxScaler()\n",
    "minmax.fit(train_df)"
   ]
  },
  {
   "cell_type": "code",
   "execution_count": 139,
   "id": "d76f1695",
   "metadata": {},
   "outputs": [],
   "source": [
    "train_arr = minmax.transform(train_df)\n",
    "test_arr = minmax.transform(test_df)\n",
    "val_arr = minmax.transform(val_df)"
   ]
  },
  {
   "cell_type": "code",
   "execution_count": 140,
   "id": "ca8024c2",
   "metadata": {},
   "outputs": [
    {
     "data": {
      "text/plain": [
       "((8064, 1), (1512, 1), (504, 1))"
      ]
     },
     "execution_count": 140,
     "metadata": {},
     "output_type": "execute_result"
    }
   ],
   "source": [
    "train_arr.shape, val_arr.shape, test_arr.shape"
   ]
  },
  {
   "cell_type": "code",
   "execution_count": 141,
   "id": "f1d4ffd8",
   "metadata": {},
   "outputs": [],
   "source": [
    "def create_dataset(sequence, n_steps):\n",
    "\tX, y = list(), list()\n",
    "\tfor i in range(len(sequence)):\n",
    "\t\t# find the end of this pattern\n",
    "\t\tend_ix = i + n_steps\n",
    "\t\t# check if we are beyond the sequence\n",
    "\t\tif end_ix > len(sequence)-1:\n",
    "\t\t\tbreak\n",
    "\t\t# gather input and output parts of the pattern\n",
    "\t\tseq_x, seq_y = sequence[i:end_ix], sequence[end_ix]\n",
    "\t\tX.append(seq_x)\n",
    "\t\ty.append(seq_y)\n",
    "\treturn np.array(X), np.array(y)"
   ]
  },
  {
   "cell_type": "code",
   "execution_count": 142,
   "id": "e7f6bed8",
   "metadata": {},
   "outputs": [
    {
     "data": {
      "text/plain": [
       "((8059, 5, 1), (8059, 1))"
      ]
     },
     "execution_count": 142,
     "metadata": {},
     "output_type": "execute_result"
    }
   ],
   "source": [
    "STEPS = 5\n",
    "x_train, y_train = create_dataset(train_arr,STEPS)\n",
    "x_train.shape, y_train.shape"
   ]
  },
  {
   "cell_type": "code",
   "execution_count": 143,
   "id": "6a820949",
   "metadata": {},
   "outputs": [
    {
     "data": {
      "text/plain": [
       "((1507, 5, 1), (1507, 1))"
      ]
     },
     "execution_count": 143,
     "metadata": {},
     "output_type": "execute_result"
    }
   ],
   "source": [
    "x_val, y_val = create_dataset(val_arr,STEPS)\n",
    "x_val.shape, y_val.shape"
   ]
  },
  {
   "cell_type": "code",
   "execution_count": 144,
   "id": "dea4eb1c",
   "metadata": {},
   "outputs": [
    {
     "data": {
      "text/plain": [
       "((499, 5, 1), (499, 1))"
      ]
     },
     "execution_count": 144,
     "metadata": {},
     "output_type": "execute_result"
    }
   ],
   "source": [
    "x_test, y_test = create_dataset(test_arr,STEPS)\n",
    "x_test.shape, y_test.shape"
   ]
  },
  {
   "cell_type": "code",
   "execution_count": 145,
   "id": "9e37c905",
   "metadata": {},
   "outputs": [],
   "source": [
    "from tensorflow.keras.models import Sequential\n",
    "from tensorflow.keras.layers import *\n",
    "from tensorflow.keras.callbacks import ModelCheckpoint\n",
    "n_steps = 5\n",
    "n_features = 1\n",
    "# reshape from [samples, timesteps] into [samples, timesteps, features]\n",
    "# n_features = 1\n",
    "# X = X.reshape((X.shape[0], X.shape[1], n_features))\n",
    "model = Sequential()\n",
    "model.add(LSTM(64, activation='relu', input_shape=(n_steps, n_features)))\n",
    "model.add(Dense(units = 32))\n",
    "model.add(Dense(units = 1)) \n",
    "model.compile(optimizer = 'adam', loss = 'mean_squared_error')"
   ]
  },
  {
   "cell_type": "code",
   "execution_count": 146,
   "id": "e36b134d",
   "metadata": {},
   "outputs": [],
   "source": [
    "mc = ModelCheckpoint('./models',save_best_only=True)"
   ]
  },
  {
   "cell_type": "code",
   "execution_count": 147,
   "id": "2f64681f",
   "metadata": {},
   "outputs": [
    {
     "name": "stdout",
     "output_type": "stream",
     "text": [
      "Model: \"sequential_3\"\n",
      "_________________________________________________________________\n",
      " Layer (type)                Output Shape              Param #   \n",
      "=================================================================\n",
      " lstm_3 (LSTM)               (None, 64)                16896     \n",
      "                                                                 \n",
      " dense_6 (Dense)             (None, 32)                2080      \n",
      "                                                                 \n",
      " dense_7 (Dense)             (None, 1)                 33        \n",
      "                                                                 \n",
      "=================================================================\n",
      "Total params: 19,009\n",
      "Trainable params: 19,009\n",
      "Non-trainable params: 0\n",
      "_________________________________________________________________\n"
     ]
    }
   ],
   "source": [
    "model.summary()"
   ]
  },
  {
   "cell_type": "code",
   "execution_count": 148,
   "id": "23c9f56a",
   "metadata": {},
   "outputs": [
    {
     "name": "stdout",
     "output_type": "stream",
     "text": [
      "Epoch 1/15\n",
      "236/252 [===========================>..] - ETA: 0s - loss: 0.0143INFO:tensorflow:Assets written to: ./models/assets\n",
      "252/252 [==============================] - 3s 9ms/step - loss: 0.0137 - val_loss: 0.0063\n",
      "Epoch 2/15\n",
      "251/252 [============================>.] - ETA: 0s - loss: 0.0061INFO:tensorflow:Assets written to: ./models/assets\n",
      "252/252 [==============================] - 2s 8ms/step - loss: 0.0061 - val_loss: 0.0061\n",
      "Epoch 3/15\n",
      "252/252 [==============================] - 1s 3ms/step - loss: 0.0059 - val_loss: 0.0061\n",
      "Epoch 4/15\n",
      "252/252 [==============================] - 1s 2ms/step - loss: 0.0057 - val_loss: 0.0061\n",
      "Epoch 5/15\n",
      "244/252 [============================>.] - ETA: 0s - loss: 0.0056INFO:tensorflow:Assets written to: ./models/assets\n",
      "252/252 [==============================] - 2s 8ms/step - loss: 0.0056 - val_loss: 0.0056\n",
      "Epoch 6/15\n",
      "252/252 [==============================] - 1s 2ms/step - loss: 0.0056 - val_loss: 0.0061\n",
      "Epoch 7/15\n",
      "251/252 [============================>.] - ETA: 0s - loss: 0.0055INFO:tensorflow:Assets written to: ./models/assets\n",
      "252/252 [==============================] - 2s 8ms/step - loss: 0.0055 - val_loss: 0.0056\n",
      "Epoch 8/15\n",
      "250/252 [============================>.] - ETA: 0s - loss: 0.0054INFO:tensorflow:Assets written to: ./models/assets\n",
      "252/252 [==============================] - 2s 9ms/step - loss: 0.0054 - val_loss: 0.0056\n",
      "Epoch 9/15\n",
      "240/252 [===========================>..] - ETA: 0s - loss: 0.0055INFO:tensorflow:Assets written to: ./models/assets\n",
      "252/252 [==============================] - 2s 7ms/step - loss: 0.0055 - val_loss: 0.0056\n",
      "Epoch 10/15\n",
      "242/252 [===========================>..] - ETA: 0s - loss: 0.0054INFO:tensorflow:Assets written to: ./models/assets\n",
      "252/252 [==============================] - 2s 7ms/step - loss: 0.0054 - val_loss: 0.0055\n",
      "Epoch 11/15\n",
      "252/252 [==============================] - 1s 2ms/step - loss: 0.0054 - val_loss: 0.0055\n",
      "Epoch 12/15\n",
      "252/252 [==============================] - 1s 2ms/step - loss: 0.0054 - val_loss: 0.0055\n",
      "Epoch 13/15\n",
      "252/252 [==============================] - 1s 2ms/step - loss: 0.0054 - val_loss: 0.0057\n",
      "Epoch 14/15\n",
      "252/252 [==============================] - 1s 2ms/step - loss: 0.0054 - val_loss: 0.0055\n",
      "Epoch 15/15\n",
      "252/252 [==============================] - 1s 3ms/step - loss: 0.0054 - val_loss: 0.0055\n"
     ]
    },
    {
     "data": {
      "text/plain": [
       "<keras.callbacks.History at 0x157024160>"
      ]
     },
     "execution_count": 148,
     "metadata": {},
     "output_type": "execute_result"
    }
   ],
   "source": [
    "model.fit(x_train,y_train,validation_data=(x_val,y_val),epochs=15,callbacks=[mc])"
   ]
  },
  {
   "cell_type": "code",
   "execution_count": 149,
   "id": "5fa794eb",
   "metadata": {},
   "outputs": [],
   "source": [
    "from tensorflow.keras.models import load_model\n",
    "model=load_model('./models/')"
   ]
  },
  {
   "cell_type": "code",
   "execution_count": 150,
   "id": "3b1b81e4",
   "metadata": {},
   "outputs": [
    {
     "name": "stdout",
     "output_type": "stream",
     "text": [
      "252/252 [==============================] - 0s 1ms/step\n"
     ]
    }
   ],
   "source": [
    "train_yhat = model.predict(x_train).flatten()\n",
    "train_results = pd.DataFrame({'yhat':train_yhat,'actuals':y_train.flatten()})"
   ]
  },
  {
   "cell_type": "code",
   "execution_count": 151,
   "id": "bc565c92",
   "metadata": {},
   "outputs": [
    {
     "data": {
      "text/plain": [
       "<matplotlib.legend.Legend at 0x158e25610>"
      ]
     },
     "execution_count": 151,
     "metadata": {},
     "output_type": "execute_result"
    },
    {
     "data": {
      "image/png": "[encoded data removed]",
      "text/plain": [
       "<Figure size 432x288 with 1 Axes>"
      ]
     },
     "metadata": {
      "needs_background": "light"
     },
     "output_type": "display_data"
    }
   ],
   "source": [
    "plt.plot(train_results['yhat'][:1000])\n",
    "plt.plot(train_results['actuals'][:1000])\n",
    "plt.legend(['yhat','actuals'])"
   ]
  },
  {
   "cell_type": "code",
   "execution_count": 152,
   "id": "047e5f9b",
   "metadata": {},
   "outputs": [
    {
     "name": "stdout",
     "output_type": "stream",
     "text": [
      "48/48 [==============================] - 0s 1ms/step\n"
     ]
    }
   ],
   "source": [
    "val_yhat = model.predict(x_val).flatten()\n",
    "val_results = pd.DataFrame({'yhat':val_yhat,'actuals':y_val.flatten()})"
   ]
  },
  {
   "cell_type": "code",
   "execution_count": null,
   "id": "1261d076",
   "metadata": {},
   "outputs": [],
   "source": [
    "plt.plot(val_results['yhat'][:10])\n",
    "plt.plot(val_results['actuals'][:10])\n",
    "plt.legend(['yhat','actuals'])"
   ]
  },
  {
   "cell_type": "code",
   "execution_count": 153,
   "id": "7ecdf655",
   "metadata": {},
   "outputs": [
    {
     "name": "stdout",
     "output_type": "stream",
     "text": [
      "16/16 [==============================] - 0s 1ms/step\n"
     ]
    }
   ],
   "source": [
    "test_yhat = model.predict(x_test).flatten()\n",
    "test_results = pd.DataFrame({'yhat':test_yhat,'actuals':y_test.flatten()})"
   ]
  },
  {
   "cell_type": "code",
   "execution_count": 154,
   "id": "bb379660",
   "metadata": {},
   "outputs": [
    {
     "data": {
      "text/plain": [
       "<matplotlib.legend.Legend at 0x158eb8070>"
      ]
     },
     "execution_count": 154,
     "metadata": {},
     "output_type": "execute_result"
    },
    {
     "data": {
      "image/png": "[encoded data removed]",
      "text/plain": [
       "<Figure size 432x288 with 1 Axes>"
      ]
     },
     "metadata": {
      "needs_background": "light"
     },
     "output_type": "display_data"
    }
   ],
   "source": [
    "plt.plot(test_results['yhat'][:1000])\n",
    "# plt.plot(test_results['actuals'][:1000])\n",
    "plt.legend(['yhat','actuals'])"
   ]
  },
  {
   "cell_type": "code",
   "execution_count": 171,
   "id": "f2bee009",
   "metadata": {},
   "outputs": [
    {
     "name": "stdout",
     "output_type": "stream",
     "text": [
      "0.5445907\n"
     ]
    }
   ],
   "source": [
    "n_features = 1\n",
    "n_steps=5\n",
    "x_input = np.array([0.39, 0.32, 0.46,0.53,0.63])\n",
    "x_input = x_input.reshape((1, n_steps, n_features))\n",
    "yhat = model.predict(x_input, verbose=0)\n",
    "print(yhat.flatten()[0])"
   ]
  },
  {
   "cell_type": "code",
   "execution_count": 170,
   "id": "4e89ee45",
   "metadata": {},
   "outputs": [
    {
     "data": {
      "text/plain": [
       "1"
      ]
     },
     "execution_count": 170,
     "metadata": {},
     "output_type": "execute_result"
    }
   ],
   "source": []
  },
  {
   "cell_type": "code",
   "execution_count": 188,
   "id": "de875855",
   "metadata": {},
   "outputs": [],
   "source": [
    "def predict_steps(first_values,steps=10):\n",
    "    f = first_values\n",
    "    main_values = first_values\n",
    "    for i in range(10):\n",
    "        x_input = np.array(f)\n",
    "        x_input = x_input.reshape((1, n_steps, n_features))\n",
    "        print(x_input)\n",
    "        yhat = model.predict(x_input, verbose=0)\n",
    "        yhat = yhat.flatten()[0]\n",
    "        main_values.append(yhat)\n",
    "        f = f[-1:]\n",
    "        f.append(yhat)\n",
    "    return(main_values)"
   ]
  },
  {
   "cell_type": "code",
   "execution_count": 189,
   "id": "8f404673",
   "metadata": {},
   "outputs": [
    {
     "name": "stdout",
     "output_type": "stream",
     "text": [
      "[[[0.39]\n",
      "  [0.32]\n",
      "  [0.46]\n",
      "  [0.53]\n",
      "  [0.63]]]\n",
      "[0.39, 0.32, 0.46, 0.53, 0.63, 0.5445907]\n"
     ]
    }
   ],
   "source": [
    "print(predict_steps(first_values = [0.39, 0.32, 0.46,0.53,0.63]))"
   ]
  },
  {
   "cell_type": "code",
   "execution_count": null,
   "id": "41d43a45",
   "metadata": {},
   "outputs": [],
   "source": []
  }
 ],
 "metadata": {
  "kernelspec": {
   "display_name": "Python 3 (ipykernel)",
   "language": "python",
   "name": "python3"
  },
  "language_info": {
   "codemirror_mode": {
    "name": "ipython",
    "version": 3
   },
   "file_extension": ".py",
   "mimetype": "text/x-python",
   "name": "python",
   "nbconvert_exporter": "python",
   "pygments_lexer": "ipython3",
   "version": "3.8.8"
  }
 },
 "nbformat": 4,
 "nbformat_minor": 5
}
